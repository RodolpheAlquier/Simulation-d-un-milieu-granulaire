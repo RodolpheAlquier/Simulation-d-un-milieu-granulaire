{
 "cells": [
  {
   "cell_type": "code",
   "execution_count": 45,
   "metadata": {},
   "outputs": [
    {
     "name": "stdout",
     "output_type": "stream",
     "text": [
      "10011001\n"
     ]
    }
   ],
   "source": [
    "import csv\n",
    "import numpy as np\n",
    "\n",
    "\n",
    "#Lecture du fichier où se trouve les données\n",
    "\n",
    "with open('position.csv', 'r') as f:\n",
    "    data = list(csv.reader(f, delimiter=\" \"))\n",
    "print(len(data)) \n"
   ]
  },
  {
   "cell_type": "code",
   "execution_count": 46,
   "metadata": {},
   "outputs": [],
   "source": [
    "steps=10000\n",
    "N=1000\n",
    "\n",
    "#Nous créons différents tableaux qui s'appellent,data0 data1,data2 où se trouvent à l'instant dt*n avec \n",
    "#n=1,2,...,steps, la position en x, y , la valeur de la hauteur du fond(ymax), le rayon et la densité\n",
    "for i in range (steps):\n",
    "    globals()[\"data%s\"%i]=np.ones((N,5))\n",
    "    for jdx in (range(N)):\n",
    "        \n",
    "        globals()[\"data%s\"%i][jdx][0]= float(data[N*i + jdx +i][0])*500/4 #x\n",
    "        globals()[\"data%s\"%i][jdx][1]= float(data[N*i + jdx +i][1])*500/4 #y\n",
    "        globals()[\"data%s\"%i][jdx][2]= float(data[N*i + jdx +i][2])*500/4 #ymax\n",
    "        globals()[\"data%s\"%i][jdx][3]= float(data[N*i + jdx +i][3])*500/4 #rayon\n",
    "        globals()[\"data%s\"%i][jdx][4]= float(data[N*i + jdx +i][4]) #densite\n",
    "\n",
    "        #La multiplication par 500/4 sert à normaliser pour un mieux affichage"
   ]
  },
  {
   "cell_type": "code",
   "execution_count": 47,
   "metadata": {},
   "outputs": [],
   "source": [
    "import tkinter\n",
    "import time\n",
    "import numpy as np\n",
    "\n",
    "\n",
    "    \n",
    "CANVAS_WIDTH = int(500/4)+20     #  nombre de pixels de largeur\n",
    "CANVAS_HEIGHT = 550+10   # nombre de pixels de hauteur\n",
    "\n",
    "N_balls=N\n",
    "\n",
    "def main():\n",
    "    canvas = make_canvas(CANVAS_WIDTH, CANVAS_HEIGHT, 'Billes dans une boîte') #on dessine la fênetre\n",
    "    Positions=np.ones((N_balls,2))\n",
    "    line_canvas= canvas.create_line(0, 500, CANVAS_WIDTH + 20, 500, width=1, fill=\"black\") #on dessine le fond\n",
    "    for ndx,pos in enumerate(data0):\n",
    "        x=pos[0]\n",
    "        y=pos[1]\n",
    "        r=pos[3]\n",
    "        \n",
    "        #if (y<400):\n",
    "        if (ndx<=10):\n",
    "            globals()[\"ball%s\"%ndx]  = canvas.create_oval(x- r, y - r, x+ r , y+r, fill='blue', outline='black')\n",
    "        else:\n",
    "            globals()[\"ball%s\"%ndx]  = canvas.create_oval(x-r, y-r, x + r , y+r, fill='red', outline='black')\n",
    "        \n",
    "    for i in range(1,steps):\n",
    "        globals()[\"change_x%s\"%i]= np.transpose(globals()[\"data%s\"%i])[0] - np.transpose(globals()[\"data%s\"%(i-1)])[0]\n",
    "        globals()[\"change_y%s\"%i]= np.transpose(globals()[\"data%s\"%i])[1] - np.transpose(globals()[\"data%s\"%(i-1)])[1]\n",
    "        globals()[\"change_line%s\"%i]= np.transpose(globals()[\"data%s\"%i])[2] - np.transpose(globals()[\"data%s\"%(i-1)])[2]\n",
    "    for i in range(1,steps):\n",
    "        \n",
    "        \n",
    "        canvas.move(line_canvas, 0, globals()[\"change_line%s\"%i][0])\n",
    "        # mettre à jour les balles\n",
    "        for ndx,pos in enumerate(data0):\n",
    "            canvas.move(globals()[\"ball%s\"%ndx], globals()[\"change_x%s\"%i][ndx], globals()[\"change_y%s\"%i][ndx])\n",
    "        # on mettre à jour la fênetre\n",
    "        canvas.update()\n",
    "        # temps entre mise au jour\n",
    "        time.sleep(1e-4)\n",
    "\n",
    "\n",
    "\n",
    "def make_canvas(width, height, title):\n",
    "\n",
    "    top = tkinter.Tk()\n",
    "    top.minsize(width=width, height=height)\n",
    "    top.title(title)\n",
    "    canvas = tkinter.Canvas(top, width=width + 1, height=height + 1)\n",
    "    canvas.pack()\n",
    "    return canvas\n",
    "\n",
    "main()"
   ]
  },
  {
   "cell_type": "markdown",
   "metadata": {},
   "source": [
    "# \n"
   ]
  },
  {
   "cell_type": "code",
   "execution_count": null,
   "metadata": {},
   "outputs": [],
   "source": [
    "\n"
   ]
  },
  {
   "cell_type": "code",
   "execution_count": null,
   "metadata": {},
   "outputs": [],
   "source": []
  },
  {
   "cell_type": "code",
   "execution_count": null,
   "metadata": {},
   "outputs": [],
   "source": []
  },
  {
   "cell_type": "code",
   "execution_count": null,
   "metadata": {},
   "outputs": [],
   "source": []
  },
  {
   "cell_type": "code",
   "execution_count": null,
   "metadata": {},
   "outputs": [],
   "source": []
  },
  {
   "cell_type": "code",
   "execution_count": null,
   "metadata": {},
   "outputs": [],
   "source": []
  },
  {
   "cell_type": "code",
   "execution_count": null,
   "metadata": {},
   "outputs": [],
   "source": []
  },
  {
   "cell_type": "code",
   "execution_count": null,
   "metadata": {},
   "outputs": [],
   "source": []
  },
  {
   "cell_type": "code",
   "execution_count": null,
   "metadata": {},
   "outputs": [],
   "source": []
  }
 ],
 "metadata": {
  "kernelspec": {
   "display_name": "Python 3",
   "language": "python",
   "name": "python3"
  },
  "language_info": {
   "codemirror_mode": {
    "name": "ipython",
    "version": 3
   },
   "file_extension": ".py",
   "mimetype": "text/x-python",
   "name": "python",
   "nbconvert_exporter": "python",
   "pygments_lexer": "ipython3",
   "version": "3.8.8"
  }
 },
 "nbformat": 4,
 "nbformat_minor": 4
}
