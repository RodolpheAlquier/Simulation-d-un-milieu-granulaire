{
 "cells": [
  {
   "cell_type": "code",
   "execution_count": 239,
   "metadata": {},
   "outputs": [
    {
     "name": "stdout",
     "output_type": "stream",
     "text": [
      "11011\n"
     ]
    }
   ],
   "source": [
    "import csv\n",
    "import numpy as np\n",
    "\n",
    "with open('position.csv', 'r') as f:\n",
    "    data = list(csv.reader(f, delimiter=\" \"))\n",
    "print(len(data))\n",
    "\n",
    "steps=1000\n",
    "N=10\n",
    "\n",
    "for i in range (steps):\n",
    "    globals()[\"data%s\"%i]=np.ones((N,3))\n",
    "    for jdx in (range(N)):\n",
    "        \n",
    "        globals()[\"data%s\"%i][jdx][0]= float(data[N*i + jdx +i][0])*500\n",
    "        globals()[\"data%s\"%i][jdx][1]= float(data[N*i + jdx +i][1])*500\n",
    "        #print(N*i + jdx +i)\n",
    "        #globals()[\"data%s\"%i][jdx][2]= int(data[N*i + jdx +i][2])\n"
   ]
  },
  {
   "cell_type": "code",
   "execution_count": null,
   "metadata": {},
   "outputs": [],
   "source": []
  },
  {
   "cell_type": "code",
   "execution_count": 242,
   "metadata": {},
   "outputs": [],
   "source": [
    "import tkinter\n",
    "import time\n",
    "import numpy as np\n",
    "\n",
    "\n",
    "CANVAS_WIDTH = 500     # Width of drawing canvas in pixels\n",
    "CANVAS_HEIGHT = 500     # Height of drawing canvas in pixels\n",
    "BALL_SIZE = 25\n",
    "N_balls=N\n",
    "\n",
    "def main():\n",
    "    canvas = make_canvas(CANVAS_WIDTH, CANVAS_HEIGHT, 'Bouncing Ball')\n",
    "    Positions=np.ones((N_balls,2))    \n",
    "    for ndx,pos in enumerate(data0):\n",
    "        x=pos[0]\n",
    "        y=pos[1]\n",
    "        globals()[\"ball%s\"%ndx]  = canvas.create_oval(x, y, x + BALL_SIZE*2 , y+BALL_SIZE*2, fill='blue', outline='blue')\n",
    "    for i in range(1,steps):\n",
    "        globals()[\"change_x%s\"%i]= np.transpose(globals()[\"data%s\"%i])[0] - np.transpose(globals()[\"data%s\"%(i-1)])[0]\n",
    "        globals()[\"change_y%s\"%i]= np.transpose(globals()[\"data%s\"%i])[1] - np.transpose(globals()[\"data%s\"%(i-1)])[1]\n",
    "    for i in range(1,steps):\n",
    "        # update world\n",
    "        for ndx,pos in enumerate(data0):\n",
    "            canvas.move(globals()[\"ball%s\"%ndx], globals()[\"change_x%s\"%i][ndx], globals()[\"change_y%s\"%i][ndx])\n",
    "            #if (globals()[\"data%s\"%ndx][ndx][2]==0):\n",
    "             #   print(globals()[\"ball%s\"%ndx].x)\n",
    "                \n",
    "            #if (globals()[\"data%s\"%ndx][ndx][2]==1):\n",
    "             #   (globals()[\"ball%s\"%ndx]).itemconfigure(fill='red')\n",
    "        # redraw canvas\n",
    "        canvas.update()\n",
    "        # pause\n",
    "        time.sleep(0.01)\n",
    "\n",
    "\n",
    "\n",
    "def get_left_x(canvas, object):\n",
    "    return canvas.coords(object)[0]\n",
    "\n",
    "def get_top_y(canvas, object):\n",
    "    return canvas.coords(object)[1]\n",
    "\n",
    "def get_right_x(canvas, object):\n",
    "    return canvas.coords(object)[2]\n",
    "\n",
    "def get_bottom_y(canvas, object):\n",
    "    return canvas.coords(object)[3]\n",
    "\n",
    "\n",
    "######## DO NOT MODIFY ANY CODE BELOW THIS LINE ###########µ\n",
    "\n",
    "# This function is provided to you and should not be modified.\n",
    "# It creates a window that contains a drawing canvas that you\n",
    "# will use to make your drawings.\n",
    "def make_canvas(width, height, title):\n",
    "    \"\"\"\n",
    "    DO NOT MODIFY\n",
    "    Creates and returns a drawing canvas\n",
    "    of the given int size with a blue border,\n",
    "    reachange_y for drawing.\n",
    "    \"\"\"\n",
    "    top = tkinter.Tk()\n",
    "    top.minsize(width=width, height=height)\n",
    "    top.title(title)\n",
    "    canvas = tkinter.Canvas(top, width=width + 1, height=height + 1)\n",
    "    canvas.pack()\n",
    "    return canvas\n",
    "\n",
    "main()"
   ]
  },
  {
   "cell_type": "code",
   "execution_count": null,
   "metadata": {},
   "outputs": [],
   "source": [
    "\n",
    "\n"
   ]
  },
  {
   "cell_type": "code",
   "execution_count": 233,
   "metadata": {},
   "outputs": [
    {
     "name": "stdout",
     "output_type": "stream",
     "text": [
      "3000\n"
     ]
    }
   ],
   "source": [
    "import csv\n",
    "import numpy as np\n",
    "\n",
    "with open('position_2.csv', 'r') as f:\n",
    "    data = list(csv.reader(f, delimiter=\" \"))\n",
    "print(len(data))\n",
    "\n",
    "steps=1000\n",
    "N=2\n",
    "\n",
    "for i in range (steps):\n",
    "    globals()[\"data%s\"%i]=np.ones((N,3))\n",
    "    for jdx in (range(N)):\n",
    "        \n",
    "        globals()[\"data%s\"%i][jdx][0]= float(data[N*i + jdx +i][0])*500\n",
    "        globals()[\"data%s\"%i][jdx][1]= float(data[N*i + jdx +i][1])*500\n",
    "        #print(N*i + jdx +i)\n",
    "        #globals()[\"data%s\"%i][jdx][2]= int(data[N*i + jdx +i][2])\n"
   ]
  },
  {
   "cell_type": "code",
   "execution_count": 234,
   "metadata": {},
   "outputs": [
    {
     "ename": "TclError",
     "evalue": "invalid command name \".!canvas\"",
     "output_type": "error",
     "traceback": [
      "\u001b[0;31m-------------------------------------------------------------\u001b[0m",
      "\u001b[0;31mTclError\u001b[0m                    Traceback (most recent call last)",
      "\u001b[0;32m<ipython-input-234-2bb71f7abe81>\u001b[0m in \u001b[0;36m<module>\u001b[0;34m\u001b[0m\n\u001b[1;32m     67\u001b[0m     \u001b[0;32mreturn\u001b[0m \u001b[0mcanvas\u001b[0m\u001b[0;34m\u001b[0m\u001b[0;34m\u001b[0m\u001b[0m\n\u001b[1;32m     68\u001b[0m \u001b[0;34m\u001b[0m\u001b[0m\n\u001b[0;32m---> 69\u001b[0;31m \u001b[0mmain\u001b[0m\u001b[0;34m(\u001b[0m\u001b[0;34m)\u001b[0m\u001b[0;34m\u001b[0m\u001b[0;34m\u001b[0m\u001b[0m\n\u001b[0m",
      "\u001b[0;32m<ipython-input-234-2bb71f7abe81>\u001b[0m in \u001b[0;36mmain\u001b[0;34m()\u001b[0m\n\u001b[1;32m     22\u001b[0m         \u001b[0;31m# update world\u001b[0m\u001b[0;34m\u001b[0m\u001b[0;34m\u001b[0m\u001b[0;34m\u001b[0m\u001b[0m\n\u001b[1;32m     23\u001b[0m         \u001b[0;32mfor\u001b[0m \u001b[0mndx\u001b[0m\u001b[0;34m,\u001b[0m\u001b[0mpos\u001b[0m \u001b[0;32min\u001b[0m \u001b[0menumerate\u001b[0m\u001b[0;34m(\u001b[0m\u001b[0mdata0\u001b[0m\u001b[0;34m)\u001b[0m\u001b[0;34m:\u001b[0m\u001b[0;34m\u001b[0m\u001b[0;34m\u001b[0m\u001b[0m\n\u001b[0;32m---> 24\u001b[0;31m             \u001b[0mcanvas\u001b[0m\u001b[0;34m.\u001b[0m\u001b[0mmove\u001b[0m\u001b[0;34m(\u001b[0m\u001b[0mglobals\u001b[0m\u001b[0;34m(\u001b[0m\u001b[0;34m)\u001b[0m\u001b[0;34m[\u001b[0m\u001b[0;34m\"ball%s\"\u001b[0m\u001b[0;34m%\u001b[0m\u001b[0mndx\u001b[0m\u001b[0;34m]\u001b[0m\u001b[0;34m,\u001b[0m \u001b[0mglobals\u001b[0m\u001b[0;34m(\u001b[0m\u001b[0;34m)\u001b[0m\u001b[0;34m[\u001b[0m\u001b[0;34m\"change_x%s\"\u001b[0m\u001b[0;34m%\u001b[0m\u001b[0mi\u001b[0m\u001b[0;34m]\u001b[0m\u001b[0;34m[\u001b[0m\u001b[0mndx\u001b[0m\u001b[0;34m]\u001b[0m\u001b[0;34m,\u001b[0m \u001b[0mglobals\u001b[0m\u001b[0;34m(\u001b[0m\u001b[0;34m)\u001b[0m\u001b[0;34m[\u001b[0m\u001b[0;34m\"change_y%s\"\u001b[0m\u001b[0;34m%\u001b[0m\u001b[0mi\u001b[0m\u001b[0;34m]\u001b[0m\u001b[0;34m[\u001b[0m\u001b[0mndx\u001b[0m\u001b[0;34m]\u001b[0m\u001b[0;34m)\u001b[0m\u001b[0;34m\u001b[0m\u001b[0;34m\u001b[0m\u001b[0m\n\u001b[0m\u001b[1;32m     25\u001b[0m             \u001b[0;31m#if (globals()[\"data%s\"%ndx][ndx][2]==0):\u001b[0m\u001b[0;34m\u001b[0m\u001b[0;34m\u001b[0m\u001b[0;34m\u001b[0m\u001b[0m\n\u001b[1;32m     26\u001b[0m              \u001b[0;31m#   print(globals()[\"ball%s\"%ndx].x)\u001b[0m\u001b[0;34m\u001b[0m\u001b[0;34m\u001b[0m\u001b[0;34m\u001b[0m\u001b[0m\n",
      "\u001b[0;32m/opt/anaconda3/lib/python3.8/tkinter/__init__.py\u001b[0m in \u001b[0;36mmove\u001b[0;34m(self, *args)\u001b[0m\n\u001b[1;32m   2918\u001b[0m     \u001b[0;32mdef\u001b[0m \u001b[0mmove\u001b[0m\u001b[0;34m(\u001b[0m\u001b[0mself\u001b[0m\u001b[0;34m,\u001b[0m \u001b[0;34m*\u001b[0m\u001b[0margs\u001b[0m\u001b[0;34m)\u001b[0m\u001b[0;34m:\u001b[0m\u001b[0;34m\u001b[0m\u001b[0;34m\u001b[0m\u001b[0m\n\u001b[1;32m   2919\u001b[0m         \u001b[0;34m\"\"\"Move an item TAGORID given in ARGS.\"\"\"\u001b[0m\u001b[0;34m\u001b[0m\u001b[0;34m\u001b[0m\u001b[0m\n\u001b[0;32m-> 2920\u001b[0;31m         \u001b[0mself\u001b[0m\u001b[0;34m.\u001b[0m\u001b[0mtk\u001b[0m\u001b[0;34m.\u001b[0m\u001b[0mcall\u001b[0m\u001b[0;34m(\u001b[0m\u001b[0;34m(\u001b[0m\u001b[0mself\u001b[0m\u001b[0;34m.\u001b[0m\u001b[0m_w\u001b[0m\u001b[0;34m,\u001b[0m \u001b[0;34m'move'\u001b[0m\u001b[0;34m)\u001b[0m \u001b[0;34m+\u001b[0m \u001b[0margs\u001b[0m\u001b[0;34m)\u001b[0m\u001b[0;34m\u001b[0m\u001b[0;34m\u001b[0m\u001b[0m\n\u001b[0m\u001b[1;32m   2921\u001b[0m \u001b[0;34m\u001b[0m\u001b[0m\n\u001b[1;32m   2922\u001b[0m     \u001b[0;32mdef\u001b[0m \u001b[0mmoveto\u001b[0m\u001b[0;34m(\u001b[0m\u001b[0mself\u001b[0m\u001b[0;34m,\u001b[0m \u001b[0mtagOrId\u001b[0m\u001b[0;34m,\u001b[0m \u001b[0mx\u001b[0m\u001b[0;34m=\u001b[0m\u001b[0;34m''\u001b[0m\u001b[0;34m,\u001b[0m \u001b[0my\u001b[0m\u001b[0;34m=\u001b[0m\u001b[0;34m''\u001b[0m\u001b[0;34m)\u001b[0m\u001b[0;34m:\u001b[0m\u001b[0;34m\u001b[0m\u001b[0;34m\u001b[0m\u001b[0m\n",
      "\u001b[0;31mTclError\u001b[0m: invalid command name \".!canvas\""
     ]
    }
   ],
   "source": [
    "import tkinter\n",
    "import time\n",
    "import numpy as np\n",
    "\n",
    "\n",
    "CANVAS_WIDTH = 500     # Width of drawing canvas in pixels\n",
    "CANVAS_HEIGHT = 500     # Height of drawing canvas in pixels\n",
    "BALL_SIZE = 50\n",
    "N_balls=N\n",
    "\n",
    "def main():\n",
    "    canvas = make_canvas(CANVAS_WIDTH, CANVAS_HEIGHT, 'Bouncing Ball')\n",
    "    Positions=np.ones((N_balls,2))    \n",
    "    for ndx,pos in enumerate(data0):\n",
    "        x=pos[0]\n",
    "        y=pos[1]\n",
    "        globals()[\"ball%s\"%ndx]  = canvas.create_oval(x, y, x + BALL_SIZE*2 , y+BALL_SIZE*2, fill='blue', outline='blue')\n",
    "    for i in range(1,steps):\n",
    "        globals()[\"change_x%s\"%i]= np.transpose(globals()[\"data%s\"%i])[0] - np.transpose(globals()[\"data%s\"%(i-1)])[0]\n",
    "        globals()[\"change_y%s\"%i]= np.transpose(globals()[\"data%s\"%i])[1] - np.transpose(globals()[\"data%s\"%(i-1)])[1]\n",
    "    for i in range(1,steps):\n",
    "        # update world\n",
    "        for ndx,pos in enumerate(data0):\n",
    "            canvas.move(globals()[\"ball%s\"%ndx], globals()[\"change_x%s\"%i][ndx], globals()[\"change_y%s\"%i][ndx])\n",
    "            #if (globals()[\"data%s\"%ndx][ndx][2]==0):\n",
    "             #   print(globals()[\"ball%s\"%ndx].x)\n",
    "                \n",
    "            #if (globals()[\"data%s\"%ndx][ndx][2]==1):\n",
    "             #   (globals()[\"ball%s\"%ndx]).itemconfigure(fill='red')\n",
    "        # redraw canvas\n",
    "        canvas.update()\n",
    "        # pause\n",
    "        time.sleep(0.1)\n",
    "\n",
    "\n",
    "\n",
    "def get_left_x(canvas, object):\n",
    "    return canvas.coords(object)[0]\n",
    "\n",
    "def get_top_y(canvas, object):\n",
    "    return canvas.coords(object)[1]\n",
    "\n",
    "def get_right_x(canvas, object):\n",
    "    return canvas.coords(object)[2]\n",
    "\n",
    "def get_bottom_y(canvas, object):\n",
    "    return canvas.coords(object)[3]\n",
    "\n",
    "\n",
    "######## DO NOT MODIFY ANY CODE BELOW THIS LINE ###########µ\n",
    "\n",
    "# This function is provided to you and should not be modified.\n",
    "# It creates a window that contains a drawing canvas that you\n",
    "# will use to make your drawings.\n",
    "def make_canvas(width, height, title):\n",
    "    \"\"\"\n",
    "    DO NOT MODIFY\n",
    "    Creates and returns a drawing canvas\n",
    "    of the given int size with a blue border,\n",
    "    reachange_y for drawing.\n",
    "    \"\"\"\n",
    "    top = tkinter.Tk()\n",
    "    top.minsize(width=width, height=height)\n",
    "    top.title(title)\n",
    "    canvas = tkinter.Canvas(top, width=width + 1, height=height + 1)\n",
    "    canvas.pack()\n",
    "    return canvas\n",
    "\n",
    "main()"
   ]
  },
  {
   "cell_type": "code",
   "execution_count": null,
   "metadata": {},
   "outputs": [],
   "source": []
  },
  {
   "cell_type": "code",
   "execution_count": null,
   "metadata": {},
   "outputs": [],
   "source": []
  },
  {
   "cell_type": "code",
   "execution_count": null,
   "metadata": {},
   "outputs": [],
   "source": []
  },
  {
   "cell_type": "code",
   "execution_count": null,
   "metadata": {},
   "outputs": [],
   "source": []
  },
  {
   "cell_type": "code",
   "execution_count": null,
   "metadata": {},
   "outputs": [],
   "source": []
  },
  {
   "cell_type": "code",
   "execution_count": null,
   "metadata": {},
   "outputs": [],
   "source": []
  },
  {
   "cell_type": "code",
   "execution_count": null,
   "metadata": {},
   "outputs": [],
   "source": []
  }
 ],
 "metadata": {
  "kernelspec": {
   "display_name": "Python 3",
   "language": "python",
   "name": "python3"
  },
  "language_info": {
   "codemirror_mode": {
    "name": "ipython",
    "version": 3
   },
   "file_extension": ".py",
   "mimetype": "text/x-python",
   "name": "python",
   "nbconvert_exporter": "python",
   "pygments_lexer": "ipython3",
   "version": "3.8.8"
  }
 },
 "nbformat": 4,
 "nbformat_minor": 4
}
